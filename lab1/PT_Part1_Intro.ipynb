{
  "cells": [
    {
      "cell_type": "markdown",
      "metadata": {
        "id": "WBk0ZDWY-ff8"
      },
      "source": [
        "<table align=\"center\">\n",
        "  <td align=\"center\"><a target=\"_blank\" href=\"http://introtodeeplearning.com\">\n",
        "        <img src=\"https://i.ibb.co/Jr88sn2/mit.png\" style=\"padding-bottom:5px;\" />\n",
        "      Visit MIT Deep Learning</a></td>\n",
        "  <td align=\"center\"><a target=\"_blank\" href=\"https://colab.research.google.com/github/MITDeepLearning/introtodeeplearning/blob/master/lab1/PT_Part1_Intro.ipynb\">\n",
        "        <img src=\"https://i.ibb.co/2P3SLwK/colab.png\"  style=\"padding-bottom:5px;\" />Run in Google Colab</a></td>\n",
        "  <td align=\"center\"><a target=\"_blank\" href=\"https://github.com/MITDeepLearning/introtodeeplearning/blob/master/lab1/PT_Part1_Intro.ipynb\">\n",
        "        <img src=\"https://i.ibb.co/xfJbPmL/github.png\"  height=\"70px\" style=\"padding-bottom:5px;\"  />View Source on GitHub</a></td>\n",
        "</table>\n",
        "\n",
        "# Copyright Information\n"
      ]
    },
    {
      "cell_type": "code",
      "execution_count": null,
      "metadata": {
        "id": "3eI6DUic-6jo"
      },
      "outputs": [],
      "source": [
        "# Copyright 2025 MIT Introduction to Deep Learning. All Rights Reserved.\n",
        "#\n",
        "# Licensed under the MIT License. You may not use this file except in compliance\n",
        "# with the License. Use and/or modification of this code outside of MIT Introduction\n",
        "# to Deep Learning must reference:\n",
        "#\n",
        "# © MIT Introduction to Deep Learning\n",
        "# http://introtodeeplearning.com\n",
        "#"
      ]
    },
    {
      "cell_type": "markdown",
      "metadata": {
        "id": "57knM8jrYZ2t"
      },
      "source": [
        "# Lab 1: Intro to PyTorch and Music Generation with RNNs\n",
        "\n",
        "In this lab, you'll get exposure to using PyTorch and learn how it can be used for deep learning. Go through the code and run each cell. Along the way, you'll encounter several ***TODO*** blocks -- follow the instructions to fill them out before running those cells and continuing.\n",
        "\n",
        "\n",
        "# Part 1: Intro to PyTorch\n",
        "\n",
        "## 0.1 Install PyTorch\n",
        "\n",
        "[PyTorch](https://pytorch.org/) is a popular deep learning library known for its flexibility and ease of use. Here we'll learn how computations are represented and how to define a simple neural network in PyTorch. For all the labs in Introduction to Deep Learning 2025, there will be a PyTorch version available.\n",
        "\n",
        "Let's install PyTorch and a couple of dependencies."
      ]
    },
    {
      "cell_type": "code",
      "execution_count": 2,
      "metadata": {
        "id": "LkaimNJfYZ2w"
      },
      "outputs": [],
      "source": [
        "import torch\n",
        "import torch.nn as nn\n",
        "\n",
        "# Download and import the MIT Introduction to Deep Learning package\n",
        "!pip install mitdeeplearning --quiet\n",
        "import mitdeeplearning as mdl\n",
        "\n",
        "import numpy as np\n",
        "import matplotlib.pyplot as plt"
      ]
    },
    {
      "cell_type": "markdown",
      "metadata": {
        "id": "2QNMcdP4m3Vs"
      },
      "source": [
        "## 1.1 What is PyTorch?\n",
        "\n",
        "PyTorch is a machine learning library, like TensorFlow. At its core, PyTorch provides an interface for creating and manipulating [tensors](https://pytorch.org/docs/stable/tensors.html), which are data structures that you can think of as multi-dimensional arrays. Tensors are represented as n-dimensional arrays of base datatypes such as a string or integer -- they provide a way to generalize vectors and matrices to higher dimensions. PyTorch provides the ability to perform computation on these tensors, define neural networks, and train them efficiently.\n",
        "\n",
        "The [```shape```](https://pytorch.org/docs/stable/generated/torch.Tensor.shape.html#torch.Tensor.shape) of a PyTorch tensor defines its number of dimensions and the size of each dimension. The `ndim` or [```dim```](https://pytorch.org/docs/stable/generated/torch.Tensor.dim.html#torch.Tensor.dim) of a PyTorch tensor provides the number of dimensions (n-dimensions) -- this is equivalent to the tensor's rank (as is used in TensorFlow), and you can also think of this as the tensor's order or degree.\n",
        "\n",
        "Let’s start by creating some tensors and inspecting their properties:\n"
      ]
    },
    {
      "cell_type": "code",
      "execution_count": 3,
      "metadata": {
        "id": "tFxztZQInlAB",
        "outputId": "4cd9699a-a65e-40e3-f49a-37a4e0784f93",
        "colab": {
          "base_uri": "https://localhost:8080/"
        }
      },
      "outputs": [
        {
          "output_type": "stream",
          "name": "stdout",
          "text": [
            "`integer` is a 0-d Tensor: 1234\n",
            "`decimal` is a 0-d Tensor: 3.1415927410125732\n"
          ]
        }
      ],
      "source": [
        "integer = torch.tensor(1234)\n",
        "decimal = torch.tensor(3.14159265359)\n",
        "\n",
        "print(f\"`integer` is a {integer.ndim}-d Tensor: {integer}\")\n",
        "print(f\"`decimal` is a {decimal.ndim}-d Tensor: {decimal}\")\n"
      ]
    },
    {
      "cell_type": "markdown",
      "metadata": {
        "id": "-dljcPUcoJZ6"
      },
      "source": [
        "Vectors and lists can be used to create 1-d tensors:"
      ]
    },
    {
      "cell_type": "code",
      "execution_count": 4,
      "metadata": {
        "id": "oaHXABe8oPcO",
        "outputId": "093f9067-fec5-4398-d587-8df1575c397e",
        "colab": {
          "base_uri": "https://localhost:8080/"
        }
      },
      "outputs": [
        {
          "output_type": "stream",
          "name": "stdout",
          "text": [
            "`fibonacci` is a 1-d Tensor with shape: torch.Size([6])\n",
            "`count_to_100` is a 1-d Tensor with shape: torch.Size([100])\n"
          ]
        }
      ],
      "source": [
        "fibonacci = torch.tensor([1, 1, 2, 3, 5, 8])\n",
        "count_to_100 = torch.tensor(range(100))\n",
        "\n",
        "print(f\"`fibonacci` is a {fibonacci.ndim}-d Tensor with shape: {fibonacci.shape}\")\n",
        "print(f\"`count_to_100` is a {count_to_100.ndim}-d Tensor with shape: {count_to_100.shape}\")\n"
      ]
    },
    {
      "cell_type": "markdown",
      "metadata": {
        "id": "gvffwkvtodLP"
      },
      "source": [
        "Next, let’s create 2-d (i.e., matrices) and higher-rank tensors. In image processing and computer vision, we will use 4-d Tensors with dimensions corresponding to batch size, number of color channels, image height, and image width."
      ]
    },
    {
      "cell_type": "code",
      "execution_count": 8,
      "metadata": {
        "id": "tFeBBe1IouS3",
        "outputId": "dd4c7674-577a-4099-e244-1b624b664678",
        "colab": {
          "base_uri": "https://localhost:8080/"
        }
      },
      "outputs": [
        {
          "output_type": "stream",
          "name": "stdout",
          "text": [
            "tensor([[0.8991, 0.9635, 0.6718, 0.8509, 0.2160, 0.7976],\n",
            "        [0.2094, 0.8571, 0.3100, 0.1695, 0.5285, 0.0912]])\n",
            "tensor([[[[7.8717e-01, 9.9376e-01, 8.2089e-01,  ..., 9.4717e-01,\n",
            "           9.3168e-01, 1.0884e-01],\n",
            "          [8.2907e-01, 2.0553e-01, 3.9569e-01,  ..., 4.1884e-01,\n",
            "           5.4581e-01, 9.2355e-01],\n",
            "          [6.4948e-01, 1.7042e-01, 5.1347e-01,  ..., 9.0038e-01,\n",
            "           9.2592e-02, 3.2996e-01],\n",
            "          ...,\n",
            "          [6.3137e-02, 7.6860e-02, 1.7556e-01,  ..., 7.0071e-01,\n",
            "           9.7574e-01, 3.5017e-01],\n",
            "          [6.9287e-03, 7.5419e-01, 3.0115e-01,  ..., 3.8973e-03,\n",
            "           3.8798e-01, 9.4990e-01],\n",
            "          [5.8262e-01, 5.9433e-02, 4.7980e-01,  ..., 8.4816e-01,\n",
            "           8.0769e-02, 9.2832e-01]],\n",
            "\n",
            "         [[5.3784e-02, 7.6917e-01, 4.9216e-01,  ..., 9.7933e-01,\n",
            "           3.7364e-01, 9.2980e-01],\n",
            "          [5.5169e-01, 6.0878e-01, 2.0709e-01,  ..., 4.9928e-01,\n",
            "           3.4209e-01, 7.5303e-01],\n",
            "          [3.3184e-01, 5.3851e-01, 5.8881e-02,  ..., 9.5868e-01,\n",
            "           9.8991e-02, 1.5686e-01],\n",
            "          ...,\n",
            "          [9.2243e-01, 9.5889e-01, 1.4229e-01,  ..., 3.9954e-01,\n",
            "           9.5537e-01, 6.8022e-01],\n",
            "          [2.6456e-01, 3.1107e-02, 8.3309e-01,  ..., 3.9686e-01,\n",
            "           9.5576e-01, 3.3216e-01],\n",
            "          [8.0643e-01, 8.5434e-01, 8.9499e-01,  ..., 5.8859e-01,\n",
            "           7.5141e-01, 1.7821e-01]],\n",
            "\n",
            "         [[4.9265e-01, 5.3141e-01, 8.7001e-01,  ..., 4.4777e-01,\n",
            "           9.3361e-01, 1.0441e-01],\n",
            "          [9.8778e-01, 7.7912e-01, 6.1718e-01,  ..., 1.6516e-01,\n",
            "           7.7258e-01, 3.4402e-01],\n",
            "          [7.0116e-01, 9.1437e-02, 8.3862e-01,  ..., 1.5600e-01,\n",
            "           9.3267e-01, 6.3452e-01],\n",
            "          ...,\n",
            "          [2.5527e-01, 7.4020e-01, 7.7107e-01,  ..., 5.1792e-01,\n",
            "           2.9176e-01, 4.9347e-01],\n",
            "          [2.4077e-01, 4.5014e-01, 9.4861e-02,  ..., 8.6466e-01,\n",
            "           1.3716e-01, 8.8027e-02],\n",
            "          [3.2101e-02, 7.9128e-01, 5.2998e-01,  ..., 8.3248e-01,\n",
            "           7.3209e-01, 8.9564e-01]]],\n",
            "\n",
            "\n",
            "        [[[8.9282e-01, 1.2478e-01, 9.4017e-01,  ..., 2.4230e-01,\n",
            "           3.5044e-01, 3.2236e-01],\n",
            "          [8.6152e-01, 8.1752e-01, 5.2541e-01,  ..., 5.0062e-01,\n",
            "           9.5819e-01, 4.2119e-01],\n",
            "          [4.1447e-01, 4.0212e-01, 1.9034e-01,  ..., 2.5059e-01,\n",
            "           3.8660e-01, 3.8261e-01],\n",
            "          ...,\n",
            "          [7.5429e-02, 7.6070e-01, 6.8424e-01,  ..., 5.7220e-01,\n",
            "           4.3956e-01, 5.4512e-01],\n",
            "          [5.0608e-01, 7.0322e-01, 5.4080e-01,  ..., 2.3461e-01,\n",
            "           8.5819e-01, 3.6603e-01],\n",
            "          [8.8121e-01, 1.2372e-01, 8.6724e-01,  ..., 5.4389e-01,\n",
            "           6.5110e-02, 1.2831e-02]],\n",
            "\n",
            "         [[2.1836e-01, 7.9332e-01, 4.7542e-01,  ..., 8.5302e-01,\n",
            "           2.6644e-01, 8.6045e-01],\n",
            "          [2.2966e-01, 9.3172e-01, 3.4347e-01,  ..., 1.1963e-02,\n",
            "           1.5834e-01, 9.0432e-01],\n",
            "          [5.9519e-01, 6.7169e-01, 8.2227e-01,  ..., 5.7985e-01,\n",
            "           3.9507e-01, 7.7666e-01],\n",
            "          ...,\n",
            "          [2.3167e-01, 6.4377e-01, 4.4622e-01,  ..., 1.0875e-01,\n",
            "           1.0258e-01, 9.8111e-01],\n",
            "          [3.2497e-02, 8.6993e-02, 7.0784e-02,  ..., 4.1756e-01,\n",
            "           8.7408e-01, 6.6008e-01],\n",
            "          [5.8325e-01, 3.7143e-01, 7.3147e-01,  ..., 5.4349e-01,\n",
            "           9.9914e-01, 4.3484e-01]],\n",
            "\n",
            "         [[2.2802e-01, 2.9369e-01, 8.4945e-01,  ..., 2.6483e-01,\n",
            "           7.5468e-01, 9.1781e-01],\n",
            "          [2.7746e-01, 7.2505e-01, 7.2688e-01,  ..., 2.3581e-01,\n",
            "           2.2436e-01, 8.1195e-02],\n",
            "          [4.0332e-01, 2.7176e-01, 3.2349e-01,  ..., 4.5806e-01,\n",
            "           7.4884e-01, 1.2183e-02],\n",
            "          ...,\n",
            "          [5.9170e-01, 7.5337e-01, 4.9438e-01,  ..., 6.5817e-01,\n",
            "           6.9225e-01, 7.7662e-01],\n",
            "          [3.6603e-01, 2.5034e-01, 2.3360e-02,  ..., 8.4094e-01,\n",
            "           4.4013e-01, 7.1375e-01],\n",
            "          [1.2151e-01, 3.7529e-01, 6.9667e-01,  ..., 1.5787e-01,\n",
            "           5.5154e-01, 7.1771e-01]]],\n",
            "\n",
            "\n",
            "        [[[4.9871e-02, 1.0101e-01, 9.2191e-03,  ..., 6.6723e-02,\n",
            "           4.9354e-01, 1.5941e-01],\n",
            "          [5.8201e-01, 7.5831e-01, 7.9215e-01,  ..., 5.6791e-01,\n",
            "           1.3136e-01, 7.2185e-01],\n",
            "          [4.9948e-01, 8.3412e-01, 2.5996e-01,  ..., 5.3908e-01,\n",
            "           7.0263e-01, 8.2719e-01],\n",
            "          ...,\n",
            "          [6.1011e-01, 6.2191e-01, 4.3366e-01,  ..., 2.3719e-01,\n",
            "           9.3022e-01, 1.2289e-01],\n",
            "          [5.3189e-01, 7.9104e-01, 2.0347e-01,  ..., 6.4747e-01,\n",
            "           5.2843e-01, 2.1629e-01],\n",
            "          [1.5912e-01, 5.5034e-01, 3.3258e-01,  ..., 5.5444e-01,\n",
            "           1.6627e-01, 6.2998e-01]],\n",
            "\n",
            "         [[7.3566e-01, 8.9956e-01, 1.3699e-02,  ..., 7.2367e-01,\n",
            "           3.0899e-01, 8.0760e-01],\n",
            "          [8.8041e-02, 8.9431e-01, 2.1141e-01,  ..., 4.7032e-01,\n",
            "           7.8685e-01, 5.0188e-01],\n",
            "          [9.8842e-01, 8.5312e-01, 3.1670e-01,  ..., 4.1017e-01,\n",
            "           5.4056e-01, 2.3874e-01],\n",
            "          ...,\n",
            "          [4.4190e-01, 1.0855e-01, 7.7197e-01,  ..., 7.6380e-01,\n",
            "           2.5230e-01, 8.4466e-01],\n",
            "          [2.3806e-01, 2.7719e-01, 2.0257e-01,  ..., 9.1385e-01,\n",
            "           3.7983e-02, 2.0461e-01],\n",
            "          [2.6225e-01, 4.2010e-01, 7.4169e-01,  ..., 5.0816e-01,\n",
            "           8.0682e-02, 4.8639e-01]],\n",
            "\n",
            "         [[6.7898e-01, 4.5600e-02, 4.1827e-01,  ..., 6.2655e-01,\n",
            "           6.4769e-01, 9.7573e-01],\n",
            "          [8.5077e-02, 9.4888e-01, 2.2642e-01,  ..., 2.0721e-01,\n",
            "           4.5927e-01, 8.7637e-01],\n",
            "          [9.9743e-02, 2.6183e-01, 8.0438e-01,  ..., 1.2854e-01,\n",
            "           3.2847e-01, 8.6137e-02],\n",
            "          ...,\n",
            "          [4.0831e-01, 3.9060e-01, 8.1436e-01,  ..., 3.8474e-01,\n",
            "           6.6484e-02, 2.4117e-01],\n",
            "          [1.5563e-01, 5.5305e-01, 2.4816e-02,  ..., 2.6481e-01,\n",
            "           3.7800e-01, 9.4805e-01],\n",
            "          [9.3456e-01, 6.6203e-01, 1.2931e-01,  ..., 2.1017e-01,\n",
            "           4.1595e-01, 7.2650e-02]]],\n",
            "\n",
            "\n",
            "        ...,\n",
            "\n",
            "\n",
            "        [[[7.9353e-02, 6.6442e-01, 3.2285e-01,  ..., 1.2480e-01,\n",
            "           6.3274e-01, 5.3144e-01],\n",
            "          [8.7495e-02, 9.7901e-04, 8.5331e-01,  ..., 6.2560e-02,\n",
            "           2.7638e-01, 4.0906e-01],\n",
            "          [2.7483e-01, 6.7647e-01, 4.2934e-01,  ..., 3.7159e-01,\n",
            "           8.4170e-01, 4.2930e-01],\n",
            "          ...,\n",
            "          [5.8629e-01, 6.2358e-01, 6.0005e-01,  ..., 3.7321e-01,\n",
            "           4.5718e-03, 5.1917e-01],\n",
            "          [1.0152e-01, 7.1737e-01, 4.6037e-01,  ..., 6.3968e-01,\n",
            "           8.9038e-01, 6.7129e-01],\n",
            "          [6.9285e-01, 8.6438e-01, 8.9267e-01,  ..., 4.5620e-02,\n",
            "           4.4288e-01, 6.0364e-01]],\n",
            "\n",
            "         [[1.7358e-01, 8.3549e-01, 6.2625e-01,  ..., 2.2346e-01,\n",
            "           6.6707e-01, 8.5612e-01],\n",
            "          [1.8207e-01, 9.0383e-01, 7.6494e-01,  ..., 5.1741e-01,\n",
            "           7.0951e-01, 5.3106e-01],\n",
            "          [8.0558e-01, 7.9471e-01, 1.3222e-01,  ..., 7.9852e-01,\n",
            "           5.7474e-02, 9.0381e-01],\n",
            "          ...,\n",
            "          [5.7579e-01, 8.5511e-01, 4.5333e-01,  ..., 5.2321e-01,\n",
            "           4.7500e-01, 2.8350e-01],\n",
            "          [1.8046e-01, 4.9021e-01, 4.6407e-02,  ..., 5.1830e-01,\n",
            "           1.5051e-01, 4.6335e-01],\n",
            "          [7.7408e-01, 3.7246e-01, 1.4023e-01,  ..., 7.3037e-01,\n",
            "           8.7850e-01, 5.5031e-02]],\n",
            "\n",
            "         [[2.9328e-01, 1.8750e-01, 1.9323e-02,  ..., 4.9212e-01,\n",
            "           6.3632e-01, 5.3452e-01],\n",
            "          [6.1340e-02, 9.6758e-01, 2.6983e-01,  ..., 6.1803e-01,\n",
            "           6.0379e-02, 9.0074e-01],\n",
            "          [6.3520e-01, 5.5788e-01, 1.4896e-01,  ..., 1.9788e-01,\n",
            "           9.9818e-01, 6.3807e-01],\n",
            "          ...,\n",
            "          [1.2978e-01, 7.1469e-01, 6.9441e-01,  ..., 5.1247e-01,\n",
            "           2.9111e-01, 2.5507e-01],\n",
            "          [2.8320e-01, 5.0779e-03, 4.5991e-01,  ..., 6.7756e-01,\n",
            "           9.8368e-01, 8.2008e-01],\n",
            "          [1.7502e-01, 4.8586e-01, 2.1533e-01,  ..., 8.1928e-02,\n",
            "           2.3042e-01, 8.8255e-01]]],\n",
            "\n",
            "\n",
            "        [[[8.4760e-01, 2.9266e-02, 4.0296e-01,  ..., 7.7776e-01,\n",
            "           6.5898e-01, 1.1816e-01],\n",
            "          [5.8296e-01, 9.7388e-01, 3.2586e-01,  ..., 4.1589e-01,\n",
            "           2.3708e-01, 7.4247e-01],\n",
            "          [8.4167e-01, 8.1015e-01, 3.2623e-01,  ..., 6.1165e-01,\n",
            "           2.1440e-01, 2.1072e-01],\n",
            "          ...,\n",
            "          [4.6869e-01, 9.2806e-01, 2.9421e-01,  ..., 7.7882e-01,\n",
            "           4.7820e-01, 6.2333e-01],\n",
            "          [4.7569e-01, 1.2609e-01, 5.9268e-01,  ..., 7.9883e-01,\n",
            "           6.4936e-01, 7.9921e-01],\n",
            "          [5.8331e-03, 1.4186e-01, 1.4311e-01,  ..., 2.7382e-01,\n",
            "           1.3214e-01, 2.3467e-01]],\n",
            "\n",
            "         [[6.8028e-01, 6.2149e-02, 5.4550e-01,  ..., 9.4890e-01,\n",
            "           7.3826e-01, 7.4684e-01],\n",
            "          [3.5719e-01, 2.7163e-01, 6.8448e-01,  ..., 5.4537e-01,\n",
            "           9.5580e-01, 2.3392e-01],\n",
            "          [1.4654e-01, 4.8234e-01, 4.7080e-01,  ..., 8.5555e-01,\n",
            "           9.9923e-01, 4.6793e-01],\n",
            "          ...,\n",
            "          [3.3806e-01, 6.7016e-01, 5.8469e-01,  ..., 1.1746e-01,\n",
            "           7.3744e-01, 7.7847e-01],\n",
            "          [2.4466e-02, 4.1197e-01, 7.7474e-01,  ..., 7.0151e-01,\n",
            "           6.8770e-01, 7.2447e-01],\n",
            "          [7.3974e-01, 1.9738e-01, 4.6363e-01,  ..., 9.6274e-01,\n",
            "           7.5349e-03, 1.7874e-01]],\n",
            "\n",
            "         [[6.3773e-01, 3.0376e-01, 2.7122e-01,  ..., 4.9336e-01,\n",
            "           7.2469e-01, 5.6659e-01],\n",
            "          [4.8298e-01, 9.2370e-01, 1.6730e-01,  ..., 1.4384e-01,\n",
            "           6.3375e-02, 6.8371e-01],\n",
            "          [2.5143e-01, 9.8860e-01, 6.4901e-01,  ..., 5.5563e-01,\n",
            "           1.2511e-01, 6.8628e-01],\n",
            "          ...,\n",
            "          [4.7283e-01, 5.9045e-01, 2.7831e-01,  ..., 8.0657e-01,\n",
            "           4.8209e-01, 3.7649e-02],\n",
            "          [4.1329e-02, 6.2152e-01, 9.2822e-01,  ..., 1.4259e-01,\n",
            "           4.4802e-01, 6.7865e-01],\n",
            "          [9.4665e-01, 6.4629e-01, 3.7524e-01,  ..., 1.0655e-01,\n",
            "           5.1749e-01, 2.2759e-02]]],\n",
            "\n",
            "\n",
            "        [[[8.1362e-01, 8.6503e-01, 4.6132e-02,  ..., 6.9150e-01,\n",
            "           7.2199e-01, 2.3845e-01],\n",
            "          [5.5057e-01, 6.6126e-01, 9.8185e-01,  ..., 6.0777e-01,\n",
            "           8.0677e-02, 9.3965e-01],\n",
            "          [5.7640e-02, 3.7455e-01, 5.5191e-01,  ..., 9.7521e-01,\n",
            "           3.5302e-01, 3.0700e-02],\n",
            "          ...,\n",
            "          [3.6140e-01, 2.0144e-01, 1.0051e-01,  ..., 6.1151e-01,\n",
            "           2.6736e-01, 8.2074e-01],\n",
            "          [1.8455e-02, 5.0054e-01, 5.4767e-01,  ..., 9.0604e-01,\n",
            "           5.4613e-02, 7.2754e-01],\n",
            "          [7.0342e-01, 8.6555e-01, 9.7991e-01,  ..., 1.0050e-01,\n",
            "           2.4053e-01, 9.0028e-01]],\n",
            "\n",
            "         [[5.7662e-01, 4.5803e-01, 7.9379e-01,  ..., 4.2999e-01,\n",
            "           6.0769e-01, 7.1460e-02],\n",
            "          [9.5403e-01, 5.9434e-01, 8.1719e-01,  ..., 5.5964e-01,\n",
            "           1.0553e-01, 1.4951e-01],\n",
            "          [6.5266e-01, 4.4192e-01, 8.8646e-01,  ..., 8.5531e-01,\n",
            "           6.9457e-01, 5.8293e-01],\n",
            "          ...,\n",
            "          [6.5251e-01, 2.7772e-01, 2.8985e-01,  ..., 6.6866e-02,\n",
            "           2.2851e-01, 4.7492e-01],\n",
            "          [4.4395e-01, 6.8916e-01, 5.0285e-01,  ..., 5.2478e-01,\n",
            "           2.0352e-01, 1.4674e-01],\n",
            "          [5.5913e-01, 3.9805e-01, 9.4095e-01,  ..., 8.0115e-02,\n",
            "           4.5419e-01, 6.6818e-01]],\n",
            "\n",
            "         [[6.8294e-01, 8.9075e-02, 6.5874e-01,  ..., 2.2274e-01,\n",
            "           9.8581e-01, 8.6021e-01],\n",
            "          [8.8420e-01, 3.6448e-01, 6.4153e-02,  ..., 2.9041e-01,\n",
            "           8.4806e-01, 3.7951e-01],\n",
            "          [6.5031e-01, 3.1946e-01, 6.2768e-01,  ..., 8.4043e-01,\n",
            "           2.8228e-01, 6.2132e-01],\n",
            "          ...,\n",
            "          [5.5537e-02, 7.4338e-01, 3.7135e-01,  ..., 5.6099e-01,\n",
            "           9.5604e-01, 4.1049e-01],\n",
            "          [5.2470e-01, 7.6381e-01, 9.0346e-01,  ..., 4.9152e-02,\n",
            "           3.5457e-01, 2.4788e-01],\n",
            "          [1.2828e-01, 2.2561e-02, 7.7436e-01,  ..., 2.0689e-01,\n",
            "           7.6364e-01, 4.4167e-01]]]])\n",
            "images is a 4-d Tensor with shape: torch.Size([10, 3, 256, 256])\n"
          ]
        }
      ],
      "source": [
        "### Defining higher-order Tensors ###\n",
        "\n",
        "'''TODO: Define a 2-d Tensor'''\n",
        "matrix = torch.rand(2,6)\n",
        "print(matrix)\n",
        "assert isinstance(matrix, torch.Tensor), \"matrix must be a torch Tensor object\"\n",
        "assert matrix.ndim == 2\n",
        "\n",
        "'''TODO: Define a 4-d Tensor.'''\n",
        "# Use torch.zeros to initialize a 4-d Tensor of zeros with size 10 x 3 x 256 x 256.\n",
        "#   You can think of this as 10 images where each image is RGB 256 x 256.\n",
        "images = torch.rand(10, 3, 256, 256)\n",
        "print(images)\n",
        "assert isinstance(images, torch.Tensor), \"images must be a torch Tensor object\"\n",
        "assert images.ndim == 4, \"images must have 4 dimensions\"\n",
        "assert images.shape == (10, 3, 256, 256), \"images is incorrect shape\"\n",
        "print(f\"images is a {images.ndim}-d Tensor with shape: {images.shape}\")"
      ]
    },
    {
      "cell_type": "markdown",
      "metadata": {
        "id": "wkaCDOGapMyl"
      },
      "source": [
        "As you have seen, the `shape` of a tensor provides the number of elements in each tensor dimension. The `shape` is quite useful, and we'll use it often. You can also use slicing to access subtensors within a higher-rank tensor:"
      ]
    },
    {
      "cell_type": "code",
      "execution_count": 9,
      "metadata": {
        "id": "FhaufyObuLEG",
        "outputId": "118107ed-01ef-476b-92b2-1f4df2eb6b71",
        "colab": {
          "base_uri": "https://localhost:8080/"
        }
      },
      "outputs": [
        {
          "output_type": "stream",
          "name": "stdout",
          "text": [
            "`row_vector`: tensor([0.2094, 0.8571, 0.3100, 0.1695, 0.5285, 0.0912])\n",
            "`column_vector`: tensor([0.9635, 0.8571])\n",
            "`scalar`: 0.9634835124015808\n"
          ]
        }
      ],
      "source": [
        "row_vector = matrix[1]\n",
        "column_vector = matrix[:, 1]\n",
        "scalar = matrix[0, 1]\n",
        "\n",
        "print(f\"`row_vector`: {row_vector}\")\n",
        "print(f\"`column_vector`: {column_vector}\")\n",
        "print(f\"`scalar`: {scalar}\")"
      ]
    },
    {
      "cell_type": "markdown",
      "metadata": {
        "id": "iD3VO-LZYZ2z"
      },
      "source": [
        "## 1.2 Computations on Tensors\n",
        "\n",
        "A convenient way to think about and visualize computations in a machine learning framework like PyTorch is in terms of graphs. We can define this graph in terms of tensors, which hold data, and the mathematical operations that act on these tensors in some order. Let's look at a simple example, and define this computation using PyTorch:\n",
        "\n",
        "![alt text](https://raw.githubusercontent.com/MITDeepLearning/introtodeeplearning/2025/lab1/img/add-graph.png)"
      ]
    },
    {
      "cell_type": "code",
      "execution_count": 10,
      "metadata": {
        "id": "X_YJrZsxYZ2z",
        "outputId": "95da0fea-e69e-45f8-ad84-35afa44a13b0",
        "colab": {
          "base_uri": "https://localhost:8080/"
        }
      },
      "outputs": [
        {
          "output_type": "stream",
          "name": "stdout",
          "text": [
            "c1: 76\n",
            "c2: 76\n"
          ]
        }
      ],
      "source": [
        "# Create the nodes in the graph and initialize values\n",
        "a = torch.tensor(15)\n",
        "b = torch.tensor(61)\n",
        "\n",
        "# Add them!\n",
        "c1 = torch.add(a, b)\n",
        "c2 = a + b  # PyTorch overrides the \"+\" operation so that it is able to act on Tensors\n",
        "print(f\"c1: {c1}\")\n",
        "print(f\"c2: {c2}\")\n"
      ]
    },
    {
      "cell_type": "markdown",
      "metadata": {
        "id": "Mbfv_QOiYZ23"
      },
      "source": [
        "Notice how we've created a computation graph consisting of PyTorch operations, and how the output is a tensor with value 76 -- we've just created a computation graph consisting of operations, and it's executed them and given us back the result.\n",
        "\n",
        "Now let's consider a slightly more complicated example:\n",
        "\n",
        "![alt text](https://raw.githubusercontent.com/MITDeepLearning/introtodeeplearning/2025/lab1/img/computation-graph.png)\n",
        "\n",
        "Here, we take two inputs, `a, b`, and compute an output `e`. Each node in the graph represents an operation that takes some input, does some computation, and passes its output to another node.\n",
        "\n",
        "Let's define a simple function in PyTorch to construct this computation function:"
      ]
    },
    {
      "cell_type": "code",
      "execution_count": 11,
      "metadata": {
        "id": "PJnfzpWyYZ23",
        "scrolled": true,
        "outputId": "92d19599-c7a9-4284-9dfd-e52d99476319",
        "colab": {
          "base_uri": "https://localhost:8080/",
          "height": 106
        }
      },
      "outputs": [
        {
          "output_type": "error",
          "ename": "SyntaxError",
          "evalue": "invalid syntax (ipython-input-11-141303032.py, line 6)",
          "traceback": [
            "\u001b[0;36m  File \u001b[0;32m\"/tmp/ipython-input-11-141303032.py\"\u001b[0;36m, line \u001b[0;32m6\u001b[0m\n\u001b[0;31m    c = # TODO\u001b[0m\n\u001b[0m        ^\u001b[0m\n\u001b[0;31mSyntaxError\u001b[0m\u001b[0;31m:\u001b[0m invalid syntax\n"
          ]
        }
      ],
      "source": [
        "### Defining Tensor computations ###\n",
        "\n",
        "# Construct a simple computation function\n",
        "def func(a, b):\n",
        "    '''TODO: Define the operation for c, d, e.'''\n",
        "    c = # TODO\n",
        "    d = # TODO\n",
        "    e = # TODO\n",
        "    return e\n"
      ]
    },
    {
      "cell_type": "markdown",
      "metadata": {
        "id": "AwrRfDMS2-oy"
      },
      "source": [
        "Now, we can call this function to execute the computation graph given some inputs `a,b`:"
      ]
    },
    {
      "cell_type": "code",
      "execution_count": null,
      "metadata": {
        "id": "pnwsf8w2uF7p"
      },
      "outputs": [],
      "source": [
        "# Consider example values for a,b\n",
        "a, b = 1.5, 2.5\n",
        "# Execute the computation\n",
        "e_out = func(a, b)\n",
        "print(f\"e_out: {e_out}\")"
      ]
    },
    {
      "cell_type": "markdown",
      "metadata": {
        "id": "6HqgUIUhYZ29"
      },
      "source": [
        "Notice how our output is a tensor with value defined by the output of the computation, and that the output has no shape as it is a single scalar value."
      ]
    },
    {
      "cell_type": "markdown",
      "metadata": {
        "id": "1h4o9Bb0YZ29"
      },
      "source": [
        "## 1.3 Neural networks in PyTorch\n",
        "We can also define neural networks in PyTorch. PyTorch uses [``torch.nn.Module``](https://pytorch.org/docs/stable/generated/torch.nn.Module.html), which serves as a base class for all neural network modules in PyTorch and thus provides a framework for building and training neural networks.\n",
        "\n",
        "Let's consider the example of a simple perceptron defined by just one dense (aka fully-connected or linear) layer: $ y = \\sigma(Wx + b) $, where $W$ represents a matrix of weights, $b$ is a bias, $x$ is the input, $\\sigma$ is the sigmoid activation function, and $y$ is the output.\n",
        "\n",
        "![alt text](https://raw.githubusercontent.com/MITDeepLearning/introtodeeplearning/2025/lab1/img/computation-graph-2.png)\n",
        "\n",
        "We will use `torch.nn.Module` to define layers -- the building blocks of neural networks. Layers implement common neural networks operations. In PyTorch, when we implement a layer, we subclass `nn.Module` and define the parameters of the layer as attributes of our new class. We also define and override a function [``forward``](https://pytorch.org/docs/stable/generated/torch.nn.Module.html#torch.nn.Module.forward), which will define the forward pass computation that is performed at every step. All classes subclassing `nn.Module` should override the `forward` function.\n",
        "\n",
        "Let's write a dense layer class to implement a perceptron defined above."
      ]
    },
    {
      "cell_type": "code",
      "execution_count": null,
      "metadata": {
        "id": "HutbJk-1kHPh"
      },
      "outputs": [],
      "source": [
        "### Defining a dense layer ###\n",
        "\n",
        "# num_inputs: number of input nodes\n",
        "# num_outputs: number of output nodes\n",
        "# x: input to the layer\n",
        "\n",
        "class OurDenseLayer(torch.nn.Module):\n",
        "    def __init__(self, num_inputs, num_outputs):\n",
        "        super(OurDenseLayer, self).__init__()\n",
        "        # Define and initialize parameters: a weight matrix W and bias b\n",
        "        # Note that the parameter initialize is random!\n",
        "        self.W = torch.nn.Parameter(torch.randn(num_inputs, num_outputs))\n",
        "        self.bias = torch.nn.Parameter(torch.randn(num_outputs))\n",
        "\n",
        "    def forward(self, x):\n",
        "        '''TODO: define the operation for z (hint: use torch.matmul).'''\n",
        "        z = # TODO\n",
        "\n",
        "        '''TODO: define the operation for out (hint: use torch.sigmoid).'''\n",
        "        y = # TODO\n",
        "        return y\n"
      ]
    },
    {
      "cell_type": "markdown",
      "metadata": {
        "id": "GqeEbn959hV_"
      },
      "source": [
        "Now, let's test the output of our layer."
      ]
    },
    {
      "cell_type": "code",
      "execution_count": null,
      "metadata": {
        "id": "2yxjCPa69hV_"
      },
      "outputs": [],
      "source": [
        "# Define a layer and test the output!\n",
        "num_inputs = 2\n",
        "num_outputs = 3\n",
        "layer = OurDenseLayer(num_inputs, num_outputs)\n",
        "x_input = torch.tensor([[1, 2.]])\n",
        "y = layer(x_input)\n",
        "\n",
        "print(f\"input shape: {x_input.shape}\")\n",
        "print(f\"output shape: {y.shape}\")\n",
        "print(f\"output result: {y}\")"
      ]
    },
    {
      "cell_type": "markdown",
      "metadata": {
        "id": "Jt1FgM7qYZ3D"
      },
      "source": [
        "Conveniently, PyTorch has defined a number of ```nn.Modules``` (or Layers) that are commonly used in neural networks, for example a [```nn.Linear```](https://pytorch.org/docs/stable/generated/torch.nn.Linear.html) or [`nn.Sigmoid`](https://pytorch.org/docs/stable/generated/torch.nn.Sigmoid.html) module.\n",
        "\n",
        "Now, instead of using a single ```Module``` to define our simple neural network, we'll use the  [`nn.Sequential`](https://pytorch.org/docs/stable/generated/torch.nn.Sequential.html) module from PyTorch and a single [`nn.Linear` ](https://pytorch.org/docs/stable/generated/torch.nn.Linear.html) layer to define our network. With the `Sequential` API, you can readily create neural networks by stacking together layers like building blocks."
      ]
    },
    {
      "cell_type": "code",
      "execution_count": null,
      "metadata": {
        "id": "7WXTpmoL6TDz"
      },
      "outputs": [],
      "source": [
        "### Defining a neural network using the PyTorch Sequential API ###\n",
        "\n",
        "# define the number of inputs and outputs\n",
        "n_input_nodes = 2\n",
        "n_output_nodes = 3\n",
        "\n",
        "# Define the model\n",
        "'''TODO: Use the Sequential API to define a neural network with a\n",
        "    single linear (dense!) layer, followed by non-linearity to compute z'''\n",
        "model = nn.Sequential( ''' TODO ''' )\n"
      ]
    },
    {
      "cell_type": "markdown",
      "metadata": {
        "id": "HDGcwYfUyR-U"
      },
      "source": [
        "We've defined our model using the Sequential API. Now, we can test it out using an example input:"
      ]
    },
    {
      "cell_type": "code",
      "execution_count": null,
      "metadata": {
        "id": "zKhp6XqCFFa0"
      },
      "outputs": [],
      "source": [
        "# Test the model with example input\n",
        "x_input = torch.tensor([[1, 2.]])\n",
        "model_output = model(x_input)\n",
        "print(f\"input shape: {x_input.shape}\")\n",
        "print(f\"output shape: {y.shape}\")\n",
        "print(f\"output result: {y}\")"
      ]
    },
    {
      "cell_type": "markdown",
      "metadata": {
        "id": "596NvsOOtr9F"
      },
      "source": [
        "With PyTorch, we can create more flexible models by subclassing [`nn.Module`](https://pytorch.org/docs/stable/generated/torch.nn.Module.html). The `nn.Module` class allows us to group layers together flexibly to define new architectures.\n",
        "\n",
        "As we saw earlier with `OurDenseLayer`, we can subclass `nn.Module` to create a class for our model, and then define the forward pass through the network using the `forward` function. Subclassing affords the flexibility to define custom layers, custom training loops, custom activation functions, and custom models. Let's define the same neural network model as above (i.e., Linear layer with an activation function after it), now using subclassing and using PyTorch's built in linear layer from `nn.Linear`."
      ]
    },
    {
      "cell_type": "code",
      "execution_count": null,
      "metadata": {
        "id": "K4aCflPVyViD"
      },
      "outputs": [],
      "source": [
        "### Defining a model using subclassing ###\n",
        "\n",
        "class LinearWithSigmoidActivation(nn.Module):\n",
        "    def __init__(self, num_inputs, num_outputs):\n",
        "        super(LinearWithSigmoidActivation, self).__init__()\n",
        "        '''TODO: define a model with a single Linear layer and sigmoid activation.'''\n",
        "        self.linear = '''TODO: linear layer'''\n",
        "        self.activation = '''TODO: sigmoid activation'''\n",
        "\n",
        "    def forward(self, inputs):\n",
        "        linear_output = self.linear(inputs)\n",
        "        output = self.activation(linear_output)\n",
        "        return output\n"
      ]
    },
    {
      "cell_type": "markdown",
      "metadata": {
        "id": "goKCQ9dEGzRn"
      },
      "source": [
        "Let's test out our new model, using an example input, setting `n_input_nodes=2` and `n_output_nodes=3` as before."
      ]
    },
    {
      "cell_type": "code",
      "execution_count": null,
      "metadata": {
        "id": "V-eNhSyRG6hl"
      },
      "outputs": [],
      "source": [
        "n_input_nodes = 2\n",
        "n_output_nodes = 3\n",
        "model = LinearWithSigmoidActivation(n_input_nodes, n_output_nodes)\n",
        "x_input = torch.tensor([[1, 2.]])\n",
        "y = model(x_input)\n",
        "print(f\"input shape: {x_input.shape}\")\n",
        "print(f\"output shape: {y.shape}\")\n",
        "print(f\"output result: {y}\")"
      ]
    },
    {
      "cell_type": "markdown",
      "metadata": {
        "id": "HTIFMJLAzsyE"
      },
      "source": [
        "Importantly, `nn.Module` affords us a lot of flexibility to define custom models. For example, we can use boolean arguments in the `forward` function to specify different network behaviors, for example different behaviors during training and inference. Let's suppose under some instances we want our network to simply output the input, without any perturbation. We define a boolean argument `isidentity` to control this behavior:"
      ]
    },
    {
      "cell_type": "code",
      "execution_count": null,
      "metadata": {
        "id": "P7jzGX5D1xT5"
      },
      "outputs": [],
      "source": [
        "### Custom behavior with subclassing nn.Module ###\n",
        "\n",
        "class LinearButSometimesIdentity(nn.Module):\n",
        "    def __init__(self, num_inputs, num_outputs):\n",
        "        super(LinearButSometimesIdentity, self).__init__()\n",
        "        self.linear = nn.Linear(num_inputs, num_outputs)\n",
        "\n",
        "    '''TODO: Implement the behavior where the network outputs the input, unchanged,\n",
        "        under control of the isidentity argument.'''\n",
        "    def forward(self, inputs, isidentity=False):\n",
        "      ''' TODO '''\n"
      ]
    },
    {
      "cell_type": "markdown",
      "metadata": {
        "id": "Ku4rcCGx5T3y"
      },
      "source": [
        "Let's test this behavior:"
      ]
    },
    {
      "cell_type": "code",
      "execution_count": null,
      "metadata": {
        "id": "NzC0mgbk5dp2"
      },
      "outputs": [],
      "source": [
        "# Test the IdentityModel\n",
        "model = LinearButSometimesIdentity(num_inputs=2, num_outputs=3)\n",
        "x_input = torch.tensor([[1, 2.]])\n",
        "\n",
        "'''TODO: pass the input into the model and call with and without the input identity option.'''\n",
        "out_with_linear = # TODO\n",
        "\n",
        "out_with_identity = # TODO\n",
        "\n",
        "print(f\"input: {x_input}\")\n",
        "print(\"Network linear output: {}; network identity output: {}\".format(out_with_linear, out_with_identity))"
      ]
    },
    {
      "cell_type": "markdown",
      "metadata": {
        "id": "7V1dEqdk6VI5"
      },
      "source": [
        "Now that we have learned how to define layers and models in PyTorch using both the Sequential API and subclassing `nn.Module`, we're ready to turn our attention to how to actually implement network training with backpropagation."
      ]
    },
    {
      "cell_type": "markdown",
      "metadata": {
        "id": "dQwDhKn8kbO2"
      },
      "source": [
        "## 1.4 Automatic Differentiation in PyTorch\n",
        "\n",
        "In PyTorch, [`torch.autograd`](https://pytorch.org/docs/stable/autograd.html) is used for [automatic differentiation](https://en.wikipedia.org/wiki/Automatic_differentiation), which is critical for training deep learning models with [backpropagation](https://en.wikipedia.org/wiki/Backpropagation).\n",
        "\n",
        "We will use the PyTorch [`.backward()`](https://pytorch.org/docs/stable/generated/torch.Tensor.backward.html) method to trace operations for computing gradients. On a tensor, the [`requires_grad`](https://pytorch.org/docs/stable/generated/torch.Tensor.requires_grad_.html) attribute controls whether autograd should record operations on that tensor. When a forward pass is made through the network, PyTorch builds a computational graph dynamically; then, to compute the gradient, the `backward()` method is called to perform backpropagation.\n",
        "\n",
        "Let's compute the gradient of $ y = x^2 $:"
      ]
    },
    {
      "cell_type": "code",
      "execution_count": null,
      "metadata": {
        "id": "tdkqk8pw5yJM"
      },
      "outputs": [],
      "source": [
        "### Gradient computation ###\n",
        "\n",
        "# y = x^2\n",
        "# Example: x = 3.0\n",
        "x = torch.tensor(3.0, requires_grad=True)\n",
        "y = x ** 2\n",
        "y.backward()  # Compute the gradient\n",
        "\n",
        "dy_dx = x.grad\n",
        "print(\"dy_dx of y=x^2 at x=3.0 is: \", dy_dx)\n",
        "assert dy_dx == 6.0\n"
      ]
    },
    {
      "cell_type": "markdown",
      "metadata": {
        "id": "JhU5metS5xF3"
      },
      "source": [
        "In training neural networks, we use differentiation and stochastic gradient descent (SGD) to optimize a loss function. Now that we have a sense of how PyTorch's autograd can be used to compute and access derivatives, we will look at an example where we use automatic differentiation and SGD to find the minimum of $ L=(x-x_f)^2 $. Here $x_f$ is a variable for a desired value we are trying to optimize for; $L$ represents a loss that we are trying to minimize. While we can clearly solve this problem analytically ($ x_{min}=x_f $), considering how we can compute this using PyTorch's autograd sets us up nicely for future labs where we use gradient descent to optimize entire neural network losses."
      ]
    },
    {
      "cell_type": "code",
      "execution_count": null,
      "metadata": {
        "attributes": {
          "classes": [
            "py"
          ],
          "id": ""
        },
        "id": "7g1yWiSXqEf-"
      },
      "outputs": [],
      "source": [
        "### Function minimization with autograd and gradient descent ###\n",
        "\n",
        "# Initialize a random value for our intial x\n",
        "x = torch.randn(1)\n",
        "print(f\"Initializing x={x.item()}\")\n",
        "\n",
        "learning_rate = 1e-2  # Learning rate\n",
        "history = []\n",
        "x_f = 4  # Target value\n",
        "\n",
        "\n",
        "# We will run gradient descent for a number of iterations. At each iteration, we compute the loss,\n",
        "#   compute the derivative of the loss with respect to x, and perform the update.\n",
        "for i in range(500):\n",
        "    x = torch.tensor([x], requires_grad=True)\n",
        "\n",
        "    # TODO: Compute the loss as the square of the difference between x and x_f\n",
        "    loss = # TODO\n",
        "\n",
        "    # Backpropagate through the loss to compute gradients\n",
        "    loss.backward()\n",
        "\n",
        "    # Update x with gradient descent\n",
        "    x = x.item() - learning_rate * x.grad\n",
        "\n",
        "    history.append(x.item())\n",
        "\n",
        "# Plot the evolution of x as we optimize toward x_f!\n",
        "plt.plot(history)\n",
        "plt.plot([0, 500], [x_f, x_f])\n",
        "plt.legend(('Predicted', 'True'))\n",
        "plt.xlabel('Iteration')\n",
        "plt.ylabel('x value')\n",
        "plt.show()\n"
      ]
    },
    {
      "cell_type": "markdown",
      "metadata": {
        "id": "pC7czCwk3ceH"
      },
      "source": [
        "Now, we have covered the fundamental concepts of PyTorch -- tensors, operations, neural networks, and automatic differentiation. Fire!!\n"
      ]
    }
  ],
  "metadata": {
    "accelerator": "GPU",
    "colab": {
      "collapsed_sections": [
        "WBk0ZDWY-ff8"
      ],
      "name": "PT_Part1_Intro.ipynb",
      "provenance": [],
      "gpuType": "T4"
    },
    "kernelspec": {
      "display_name": "Python 3",
      "name": "python3"
    },
    "language_info": {
      "codemirror_mode": {
        "name": "ipython",
        "version": 3
      },
      "file_extension": ".py",
      "mimetype": "text/x-python",
      "name": "python",
      "nbconvert_exporter": "python",
      "pygments_lexer": "ipython3",
      "version": "3.10.6"
    },
    "vscode": {
      "interpreter": {
        "hash": "31f2aee4e71d21fbe5cf8b01ff0e069b9275f58929596ceb00d14d90e3e16cd6"
      }
    }
  },
  "nbformat": 4,
  "nbformat_minor": 0
}